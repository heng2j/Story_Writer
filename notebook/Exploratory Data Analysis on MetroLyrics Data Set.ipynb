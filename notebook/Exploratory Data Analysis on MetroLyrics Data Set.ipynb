{
 "cells": [
  {
   "cell_type": "markdown",
   "metadata": {},
   "source": [
    "# About this Notebook:"
   ]
  },
  {
   "cell_type": "markdown",
   "metadata": {},
   "source": [
    "This notebook show a brief exploratory data analysis(EDA) on the MetroLyrics Data Set that found from Kaggle.\n",
    "\n",
    "The details of the dataset can be found here __[380,000+ lyrics from MetroLyrics - Lyrics, Artist , Genre, Year](https://www.kaggle.com/gyani95/380000-lyrics-from-metrolyrics/kernels)__"
   ]
  },
  {
   "cell_type": "markdown",
   "metadata": {},
   "source": [
    "Notebook Enviroment"
   ]
  },
  {
   "cell_type": "markdown",
   "metadata": {},
   "source": [
    "- Kernel: Python 3"
   ]
  },
  {
   "cell_type": "markdown",
   "metadata": {},
   "source": [
    "## Question to be answered:"
   ]
  },
  {
   "cell_type": "markdown",
   "metadata": {},
   "source": [
    "1. How many soungs in the Hip-Hop genre?\n",
    "2. How many different MCs are included in this dataset?\n",
    "3. Can we extract the Hip-Hop genre subset as the data for our lyrics database?"
   ]
  },
  {
   "cell_type": "markdown",
   "metadata": {},
   "source": [
    "## TODO"
   ]
  },
  {
   "cell_type": "markdown",
   "metadata": {},
   "source": [
    "Export a smaller set of data as CSV file that only include Hip-Hop as the genre"
   ]
  },
  {
   "cell_type": "markdown",
   "metadata": {},
   "source": [
    "# Load Modules"
   ]
  },
  {
   "cell_type": "code",
   "execution_count": 5,
   "metadata": {
    "collapsed": true
   },
   "outputs": [],
   "source": [
    "from __future__ import print_function\n",
    "import pandas as pd\n",
    "import numpy as np\n",
    "import json\n",
    "import csv\n",
    "import os\n",
    "from os.path import dirname as up\n",
    "import time"
   ]
  },
  {
   "cell_type": "markdown",
   "metadata": {},
   "source": [
    "# Commonly Shared Statics"
   ]
  },
  {
   "cell_type": "code",
   "execution_count": 39,
   "metadata": {},
   "outputs": [],
   "source": [
    "projectPath = up(os.getcwd())\n",
    "# This file lyrics.csv is list in the .gitignore file and will not be added to the repo\n",
    "data_path = projectPath + '/data/lyrics.csv'\n",
    "exporting_path = projectPath + '/data/lyrics_hiphop.csv'"
   ]
  },
  {
   "cell_type": "markdown",
   "metadata": {},
   "source": [
    "# Parse the Data"
   ]
  },
  {
   "cell_type": "markdown",
   "metadata": {},
   "source": [
    "Load the csv file into pandas dataframe"
   ]
  },
  {
   "cell_type": "code",
   "execution_count": 16,
   "metadata": {},
   "outputs": [],
   "source": [
    "data_df = pd.read_csv(data_path)"
   ]
  },
  {
   "cell_type": "markdown",
   "metadata": {},
   "source": [
    "# Brief EDA on the data set "
   ]
  },
  {
   "cell_type": "markdown",
   "metadata": {},
   "source": [
    "Check the first 5 and last 5 rows of the dataframe with head and tail"
   ]
  },
  {
   "cell_type": "code",
   "execution_count": 17,
   "metadata": {},
   "outputs": [
    {
     "data": {
      "text/html": [
       "<div>\n",
       "<style>\n",
       "    .dataframe thead tr:only-child th {\n",
       "        text-align: right;\n",
       "    }\n",
       "\n",
       "    .dataframe thead th {\n",
       "        text-align: left;\n",
       "    }\n",
       "\n",
       "    .dataframe tbody tr th {\n",
       "        vertical-align: top;\n",
       "    }\n",
       "</style>\n",
       "<table border=\"1\" class=\"dataframe\">\n",
       "  <thead>\n",
       "    <tr style=\"text-align: right;\">\n",
       "      <th></th>\n",
       "      <th>index</th>\n",
       "      <th>song</th>\n",
       "      <th>year</th>\n",
       "      <th>artist</th>\n",
       "      <th>genre</th>\n",
       "      <th>lyrics</th>\n",
       "    </tr>\n",
       "  </thead>\n",
       "  <tbody>\n",
       "    <tr>\n",
       "      <th>0</th>\n",
       "      <td>0</td>\n",
       "      <td>ego-remix</td>\n",
       "      <td>2009</td>\n",
       "      <td>beyonce-knowles</td>\n",
       "      <td>Pop</td>\n",
       "      <td>Oh baby, how you doing?\\nYou know I'm gonna cu...</td>\n",
       "    </tr>\n",
       "    <tr>\n",
       "      <th>1</th>\n",
       "      <td>1</td>\n",
       "      <td>then-tell-me</td>\n",
       "      <td>2009</td>\n",
       "      <td>beyonce-knowles</td>\n",
       "      <td>Pop</td>\n",
       "      <td>playin' everything so easy,\\nit's like you see...</td>\n",
       "    </tr>\n",
       "    <tr>\n",
       "      <th>2</th>\n",
       "      <td>2</td>\n",
       "      <td>honesty</td>\n",
       "      <td>2009</td>\n",
       "      <td>beyonce-knowles</td>\n",
       "      <td>Pop</td>\n",
       "      <td>If you search\\nFor tenderness\\nIt isn't hard t...</td>\n",
       "    </tr>\n",
       "    <tr>\n",
       "      <th>3</th>\n",
       "      <td>3</td>\n",
       "      <td>you-are-my-rock</td>\n",
       "      <td>2009</td>\n",
       "      <td>beyonce-knowles</td>\n",
       "      <td>Pop</td>\n",
       "      <td>Oh oh oh I, oh oh oh I\\n[Verse 1:]\\nIf I wrote...</td>\n",
       "    </tr>\n",
       "    <tr>\n",
       "      <th>4</th>\n",
       "      <td>4</td>\n",
       "      <td>black-culture</td>\n",
       "      <td>2009</td>\n",
       "      <td>beyonce-knowles</td>\n",
       "      <td>Pop</td>\n",
       "      <td>Party the people, the people the party it's po...</td>\n",
       "    </tr>\n",
       "  </tbody>\n",
       "</table>\n",
       "</div>"
      ],
      "text/plain": [
       "   index             song  year           artist genre  \\\n",
       "0      0        ego-remix  2009  beyonce-knowles   Pop   \n",
       "1      1     then-tell-me  2009  beyonce-knowles   Pop   \n",
       "2      2          honesty  2009  beyonce-knowles   Pop   \n",
       "3      3  you-are-my-rock  2009  beyonce-knowles   Pop   \n",
       "4      4    black-culture  2009  beyonce-knowles   Pop   \n",
       "\n",
       "                                              lyrics  \n",
       "0  Oh baby, how you doing?\\nYou know I'm gonna cu...  \n",
       "1  playin' everything so easy,\\nit's like you see...  \n",
       "2  If you search\\nFor tenderness\\nIt isn't hard t...  \n",
       "3  Oh oh oh I, oh oh oh I\\n[Verse 1:]\\nIf I wrote...  \n",
       "4  Party the people, the people the party it's po...  "
      ]
     },
     "execution_count": 17,
     "metadata": {},
     "output_type": "execute_result"
    }
   ],
   "source": [
    "data_df.head()"
   ]
  },
  {
   "cell_type": "code",
   "execution_count": 18,
   "metadata": {
    "scrolled": true
   },
   "outputs": [
    {
     "data": {
      "text/html": [
       "<div>\n",
       "<style>\n",
       "    .dataframe thead tr:only-child th {\n",
       "        text-align: right;\n",
       "    }\n",
       "\n",
       "    .dataframe thead th {\n",
       "        text-align: left;\n",
       "    }\n",
       "\n",
       "    .dataframe tbody tr th {\n",
       "        vertical-align: top;\n",
       "    }\n",
       "</style>\n",
       "<table border=\"1\" class=\"dataframe\">\n",
       "  <thead>\n",
       "    <tr style=\"text-align: right;\">\n",
       "      <th></th>\n",
       "      <th>index</th>\n",
       "      <th>song</th>\n",
       "      <th>year</th>\n",
       "      <th>artist</th>\n",
       "      <th>genre</th>\n",
       "      <th>lyrics</th>\n",
       "    </tr>\n",
       "  </thead>\n",
       "  <tbody>\n",
       "    <tr>\n",
       "      <th>362232</th>\n",
       "      <td>362232</td>\n",
       "      <td>who-am-i-drinking-tonight</td>\n",
       "      <td>2012</td>\n",
       "      <td>edens-edge</td>\n",
       "      <td>Country</td>\n",
       "      <td>I gotta say\\nBoy, after only just a couple of ...</td>\n",
       "    </tr>\n",
       "    <tr>\n",
       "      <th>362233</th>\n",
       "      <td>362233</td>\n",
       "      <td>liar</td>\n",
       "      <td>2012</td>\n",
       "      <td>edens-edge</td>\n",
       "      <td>Country</td>\n",
       "      <td>I helped you find her diamond ring\\nYou made m...</td>\n",
       "    </tr>\n",
       "    <tr>\n",
       "      <th>362234</th>\n",
       "      <td>362234</td>\n",
       "      <td>last-supper</td>\n",
       "      <td>2012</td>\n",
       "      <td>edens-edge</td>\n",
       "      <td>Country</td>\n",
       "      <td>Look at the couple in the corner booth\\nLooks ...</td>\n",
       "    </tr>\n",
       "    <tr>\n",
       "      <th>362235</th>\n",
       "      <td>362235</td>\n",
       "      <td>christ-alone-live-in-studio</td>\n",
       "      <td>2012</td>\n",
       "      <td>edens-edge</td>\n",
       "      <td>Country</td>\n",
       "      <td>When I fly off this mortal earth\\nAnd I'm meas...</td>\n",
       "    </tr>\n",
       "    <tr>\n",
       "      <th>362236</th>\n",
       "      <td>362236</td>\n",
       "      <td>amen</td>\n",
       "      <td>2012</td>\n",
       "      <td>edens-edge</td>\n",
       "      <td>Country</td>\n",
       "      <td>I heard from a friend of a friend of a friend ...</td>\n",
       "    </tr>\n",
       "  </tbody>\n",
       "</table>\n",
       "</div>"
      ],
      "text/plain": [
       "         index                         song  year      artist    genre  \\\n",
       "362232  362232    who-am-i-drinking-tonight  2012  edens-edge  Country   \n",
       "362233  362233                         liar  2012  edens-edge  Country   \n",
       "362234  362234                  last-supper  2012  edens-edge  Country   \n",
       "362235  362235  christ-alone-live-in-studio  2012  edens-edge  Country   \n",
       "362236  362236                         amen  2012  edens-edge  Country   \n",
       "\n",
       "                                                   lyrics  \n",
       "362232  I gotta say\\nBoy, after only just a couple of ...  \n",
       "362233  I helped you find her diamond ring\\nYou made m...  \n",
       "362234  Look at the couple in the corner booth\\nLooks ...  \n",
       "362235  When I fly off this mortal earth\\nAnd I'm meas...  \n",
       "362236  I heard from a friend of a friend of a friend ...  "
      ]
     },
     "execution_count": 18,
     "metadata": {},
     "output_type": "execute_result"
    }
   ],
   "source": [
    "data_df.tail()"
   ]
  },
  {
   "cell_type": "markdown",
   "metadata": {},
   "source": [
    "Check the overview info of the dataframe"
   ]
  },
  {
   "cell_type": "code",
   "execution_count": 19,
   "metadata": {
    "scrolled": true
   },
   "outputs": [
    {
     "name": "stdout",
     "output_type": "stream",
     "text": [
      "<class 'pandas.core.frame.DataFrame'>\n",
      "RangeIndex: 362237 entries, 0 to 362236\n",
      "Data columns (total 6 columns):\n",
      "index     362237 non-null int64\n",
      "song      362235 non-null object\n",
      "year      362237 non-null int64\n",
      "artist    362237 non-null object\n",
      "genre     362237 non-null object\n",
      "lyrics    266557 non-null object\n",
      "dtypes: int64(2), object(4)\n",
      "memory usage: 16.6+ MB\n"
     ]
    }
   ],
   "source": [
    "data_df.info()"
   ]
  },
  {
   "cell_type": "markdown",
   "metadata": {},
   "source": [
    "Check on the distribution of the genre"
   ]
  },
  {
   "cell_type": "code",
   "execution_count": 22,
   "metadata": {
    "scrolled": false
   },
   "outputs": [
    {
     "data": {
      "text/plain": [
       "Rock             131377\n",
       "Pop               49444\n",
       "Hip-Hop           33965\n",
       "Not Available     29814\n",
       "Metal             28408\n",
       "Other             23683\n",
       "Country           17286\n",
       "Jazz              17147\n",
       "Electronic        16205\n",
       "R&B                5935\n",
       "Indie              5732\n",
       "Folk               3241\n",
       "Name: genre, dtype: int64"
      ]
     },
     "execution_count": 22,
     "metadata": {},
     "output_type": "execute_result"
    }
   ],
   "source": [
    "data_df.genre.value_counts(dropna=False)"
   ]
  },
  {
   "cell_type": "markdown",
   "metadata": {},
   "source": [
    "Extract hip_hop_data_df from data_df"
   ]
  },
  {
   "cell_type": "code",
   "execution_count": 34,
   "metadata": {},
   "outputs": [],
   "source": [
    "hip_hop_data_df = data_df[data_df.genre == 'Hip-Hop']"
   ]
  },
  {
   "cell_type": "markdown",
   "metadata": {},
   "source": [
    "Drop rows where there is no data for  lyrics "
   ]
  },
  {
   "cell_type": "code",
   "execution_count": 35,
   "metadata": {},
   "outputs": [
    {
     "name": "stderr",
     "output_type": "stream",
     "text": [
      "/anaconda3/lib/python3.6/site-packages/ipykernel_launcher.py:1: SettingWithCopyWarning: \n",
      "A value is trying to be set on a copy of a slice from a DataFrame\n",
      "\n",
      "See the caveats in the documentation: http://pandas.pydata.org/pandas-docs/stable/indexing.html#indexing-view-versus-copy\n",
      "  \"\"\"Entry point for launching an IPython kernel.\n"
     ]
    }
   ],
   "source": [
    "hip_hop_data_df.dropna(subset=['lyrics'],inplace = True)"
   ]
  },
  {
   "cell_type": "code",
   "execution_count": 36,
   "metadata": {
    "scrolled": true
   },
   "outputs": [
    {
     "name": "stdout",
     "output_type": "stream",
     "text": [
      "<class 'pandas.core.frame.DataFrame'>\n",
      "Int64Index: 24850 entries, 249 to 362156\n",
      "Data columns (total 6 columns):\n",
      "index     24850 non-null int64\n",
      "song      24850 non-null object\n",
      "year      24850 non-null int64\n",
      "artist    24850 non-null object\n",
      "genre     24850 non-null object\n",
      "lyrics    24850 non-null object\n",
      "dtypes: int64(2), object(4)\n",
      "memory usage: 1.3+ MB\n"
     ]
    }
   ],
   "source": [
    "hip_hop_data_df.info()"
   ]
  },
  {
   "cell_type": "markdown",
   "metadata": {},
   "source": [
    "Check on the distribution of the artists"
   ]
  },
  {
   "cell_type": "code",
   "execution_count": 54,
   "metadata": {
    "scrolled": false
   },
   "outputs": [
    {
     "data": {
      "text/plain": [
       "chris-brown                628\n",
       "eminem                     578\n",
       "50-cent                    398\n",
       "chamillionaire             396\n",
       "drake                      373\n",
       "2pac                       367\n",
       "game                       341\n",
       "busta-rhymes               292\n",
       "dmx                        279\n",
       "e-40                       272\n",
       "bone-thugs-n-harmony       267\n",
       "fabolous                   262\n",
       "beastie-boys               261\n",
       "esham                      250\n",
       "atmosphere                 242\n",
       "ghostface-killah           225\n",
       "bow-wow                    220\n",
       "cypress-hill               212\n",
       "b-o-b                      205\n",
       "daddy-yankee               204\n",
       "cam-ron                    204\n",
       "fat-joe                    181\n",
       "future                     180\n",
       "common                     178\n",
       "ace-hood                   177\n",
       "gangstarr                  175\n",
       "big-sean                   174\n",
       "black-eyed-peas            164\n",
       "andre-nickatina            160\n",
       "bizzy-bone                 160\n",
       "                          ... \n",
       "a-k-s-w-i-f-t                1\n",
       "ericka-june                  1\n",
       "final-outlaw                 1\n",
       "cali-life-style              1\n",
       "cinos                        1\n",
       "astroid-boys                 1\n",
       "freeze                       1\n",
       "clam-casino                  1\n",
       "aaries                       1\n",
       "blueprint                    1\n",
       "george-reefah                1\n",
       "attitude                     1\n",
       "dez                          1\n",
       "chris-j                      1\n",
       "chance-waters                1\n",
       "fabio-rovazzi                1\n",
       "bobbyxl                      1\n",
       "djas                         1\n",
       "califonia-swag-district      1\n",
       "gold-top                     1\n",
       "ammbush                      1\n",
       "babeo-baggins                1\n",
       "ahi                          1\n",
       "gino-marley                  1\n",
       "eighty4-fly                  1\n",
       "frankie-smith                1\n",
       "gina-rene                    1\n",
       "cashis                       1\n",
       "frenchie                     1\n",
       "danny-seth                   1\n",
       "Name: artist, Length: 1107, dtype: int64"
      ]
     },
     "execution_count": 54,
     "metadata": {},
     "output_type": "execute_result"
    }
   ],
   "source": [
    "hip_hop_data_df.artist.value_counts(dropna=False)"
   ]
  },
  {
   "cell_type": "markdown",
   "metadata": {},
   "source": [
    "Check the distribution of years"
   ]
  },
  {
   "cell_type": "code",
   "execution_count": 62,
   "metadata": {},
   "outputs": [
    {
     "data": {
      "text/plain": [
       "2016    1508\n",
       "2015    1161\n",
       "2014    1324\n",
       "2013    1229\n",
       "2012    1778\n",
       "2011    1474\n",
       "2010    1537\n",
       "2009    1294\n",
       "2008    1646\n",
       "2007    3808\n",
       "2006    6062\n",
       "2005     564\n",
       "2004     435\n",
       "2003     111\n",
       "2002     200\n",
       "2001      89\n",
       "2000      82\n",
       "1999     127\n",
       "1998      34\n",
       "1997      12\n",
       "1996      95\n",
       "1995      81\n",
       "1994      54\n",
       "1993      13\n",
       "1992      59\n",
       "1991      11\n",
       "1990       7\n",
       "1989      48\n",
       "1982       2\n",
       "702        1\n",
       "112        3\n",
       "67         1\n",
       "Name: year, dtype: int64"
      ]
     },
     "execution_count": 62,
     "metadata": {},
     "output_type": "execute_result"
    }
   ],
   "source": [
    "hip_hop_data_df.year.value_counts(dropna=False).sort_index(ascending=False)"
   ]
  },
  {
   "cell_type": "markdown",
   "metadata": {},
   "source": [
    "Get the unique count for all the fields in the data set"
   ]
  },
  {
   "cell_type": "code",
   "execution_count": 64,
   "metadata": {},
   "outputs": [
    {
     "data": {
      "text/plain": [
       "song      21479\n",
       "year         32\n",
       "artist     1107\n",
       "genre         1\n",
       "lyrics    22648\n",
       "dtype: int64"
      ]
     },
     "execution_count": 64,
     "metadata": {},
     "output_type": "execute_result"
    }
   ],
   "source": [
    "hip_hop_data_df.nunique()"
   ]
  },
  {
   "cell_type": "markdown",
   "metadata": {},
   "source": [
    "Check what song we have for Drake"
   ]
  },
  {
   "cell_type": "code",
   "execution_count": 57,
   "metadata": {},
   "outputs": [
    {
     "data": {
      "text/html": [
       "<div>\n",
       "<style>\n",
       "    .dataframe thead tr:only-child th {\n",
       "        text-align: right;\n",
       "    }\n",
       "\n",
       "    .dataframe thead th {\n",
       "        text-align: left;\n",
       "    }\n",
       "\n",
       "    .dataframe tbody tr th {\n",
       "        vertical-align: top;\n",
       "    }\n",
       "</style>\n",
       "<table border=\"1\" class=\"dataframe\">\n",
       "  <thead>\n",
       "    <tr style=\"text-align: right;\">\n",
       "      <th></th>\n",
       "      <th>song</th>\n",
       "      <th>year</th>\n",
       "      <th>artist</th>\n",
       "      <th>genre</th>\n",
       "      <th>lyrics</th>\n",
       "    </tr>\n",
       "  </thead>\n",
       "  <tbody>\n",
       "    <tr>\n",
       "      <th>257883</th>\n",
       "      <td>moment-4-life</td>\n",
       "      <td>2009</td>\n",
       "      <td>drake</td>\n",
       "      <td>Hip-Hop</td>\n",
       "      <td>I fly with the stars in the skies\\nI am no lon...</td>\n",
       "    </tr>\n",
       "    <tr>\n",
       "      <th>257884</th>\n",
       "      <td>best-i-ever-had-remix</td>\n",
       "      <td>2009</td>\n",
       "      <td>drake</td>\n",
       "      <td>Hip-Hop</td>\n",
       "      <td>You know a lot of girls be\\nThinking my songs ...</td>\n",
       "    </tr>\n",
       "    <tr>\n",
       "      <th>257885</th>\n",
       "      <td>forever-remix</td>\n",
       "      <td>2009</td>\n",
       "      <td>drake</td>\n",
       "      <td>Hip-Hop</td>\n",
       "      <td>It may not mean nothing to y'all,\\nBut underst...</td>\n",
       "    </tr>\n",
       "    <tr>\n",
       "      <th>257886</th>\n",
       "      <td>kick-push-remix</td>\n",
       "      <td>2009</td>\n",
       "      <td>drake</td>\n",
       "      <td>Hip-Hop</td>\n",
       "      <td>[LUPE FIASCO: TALKING]\\nUh, what up y'all!\\nSo...</td>\n",
       "    </tr>\n",
       "    <tr>\n",
       "      <th>257887</th>\n",
       "      <td>fear</td>\n",
       "      <td>2009</td>\n",
       "      <td>drake</td>\n",
       "      <td>Hip-Hop</td>\n",
       "      <td>This is why I do this shit.\\nI think they call...</td>\n",
       "    </tr>\n",
       "    <tr>\n",
       "      <th>257888</th>\n",
       "      <td>unstoppable-remix</td>\n",
       "      <td>2009</td>\n",
       "      <td>drake</td>\n",
       "      <td>Hip-Hop</td>\n",
       "      <td>[Drake]\\nMy name is drizzy\\nand i aint perfect...</td>\n",
       "    </tr>\n",
       "    <tr>\n",
       "      <th>257889</th>\n",
       "      <td>what-i-m-thinking-now</td>\n",
       "      <td>2009</td>\n",
       "      <td>drake</td>\n",
       "      <td>Hip-Hop</td>\n",
       "      <td>Yes,\\nI'm on that old switch lane shit,\\nJay, ...</td>\n",
       "    </tr>\n",
       "    <tr>\n",
       "      <th>257890</th>\n",
       "      <td>asthma-team-freestyle</td>\n",
       "      <td>2009</td>\n",
       "      <td>drake</td>\n",
       "      <td>Hip-Hop</td>\n",
       "      <td>I swear to you, Lord\\nSame dudes used to laugh...</td>\n",
       "    </tr>\n",
       "    <tr>\n",
       "      <th>257891</th>\n",
       "      <td>successful</td>\n",
       "      <td>2009</td>\n",
       "      <td>drake</td>\n",
       "      <td>Hip-Hop</td>\n",
       "      <td>The money (money) cars (cars)\\nThe clothes (cl...</td>\n",
       "    </tr>\n",
       "    <tr>\n",
       "      <th>257892</th>\n",
       "      <td>a-night-off</td>\n",
       "      <td>2009</td>\n",
       "      <td>drake</td>\n",
       "      <td>Hip-Hop</td>\n",
       "      <td>Spending every moment in the studio\\nI never s...</td>\n",
       "    </tr>\n",
       "    <tr>\n",
       "      <th>257893</th>\n",
       "      <td>bria-s-interlude</td>\n",
       "      <td>2009</td>\n",
       "      <td>drake</td>\n",
       "      <td>Hip-Hop</td>\n",
       "      <td>[Omarion:]\\nEven though your all alone\\nAll I ...</td>\n",
       "    </tr>\n",
       "    <tr>\n",
       "      <th>257894</th>\n",
       "      <td>special</td>\n",
       "      <td>2009</td>\n",
       "      <td>drake</td>\n",
       "      <td>Hip-Hop</td>\n",
       "      <td>Uh Yea Man, Vo, Back Again Like We Never Left ...</td>\n",
       "    </tr>\n",
       "    <tr>\n",
       "      <th>257895</th>\n",
       "      <td>the-usual</td>\n",
       "      <td>2009</td>\n",
       "      <td>drake</td>\n",
       "      <td>Hip-Hop</td>\n",
       "      <td>And I Wouldn't Be Me If I Didn't Get A Little ...</td>\n",
       "    </tr>\n",
       "    <tr>\n",
       "      <th>257896</th>\n",
       "      <td>say-something</td>\n",
       "      <td>2009</td>\n",
       "      <td>drake</td>\n",
       "      <td>Hip-Hop</td>\n",
       "      <td>This shit was all I knew\\nYou and me, only\\nI ...</td>\n",
       "    </tr>\n",
       "    <tr>\n",
       "      <th>257897</th>\n",
       "      <td>lookin</td>\n",
       "      <td>2009</td>\n",
       "      <td>drake</td>\n",
       "      <td>Hip-Hop</td>\n",
       "      <td>they say when u lov some one you dont play\\nbu...</td>\n",
       "    </tr>\n",
       "    <tr>\n",
       "      <th>257898</th>\n",
       "      <td>city-is-mine</td>\n",
       "      <td>2009</td>\n",
       "      <td>drake</td>\n",
       "      <td>Hip-Hop</td>\n",
       "      <td>This the record that my backpack underground f...</td>\n",
       "    </tr>\n",
       "    <tr>\n",
       "      <th>257899</th>\n",
       "      <td>interlude</td>\n",
       "      <td>2009</td>\n",
       "      <td>drake</td>\n",
       "      <td>Hip-Hop</td>\n",
       "      <td>Oh, baby (Oh baby)\\nDays in the sun\\nAnd night...</td>\n",
       "    </tr>\n",
       "    <tr>\n",
       "      <th>257900</th>\n",
       "      <td>intro</td>\n",
       "      <td>2009</td>\n",
       "      <td>drake</td>\n",
       "      <td>Hip-Hop</td>\n",
       "      <td>i heard once that they would rather hear about...</td>\n",
       "    </tr>\n",
       "    <tr>\n",
       "      <th>257901</th>\n",
       "      <td>loving-you-no-more-remix</td>\n",
       "      <td>2009</td>\n",
       "      <td>drake</td>\n",
       "      <td>Hip-Hop</td>\n",
       "      <td>So hard to breathe this air that we call love,...</td>\n",
       "    </tr>\n",
       "    <tr>\n",
       "      <th>257902</th>\n",
       "      <td>say-what-s-real</td>\n",
       "      <td>2009</td>\n",
       "      <td>drake</td>\n",
       "      <td>Hip-Hop</td>\n",
       "      <td>Why do I feel so alone?\\nLike everybody passin...</td>\n",
       "    </tr>\n",
       "  </tbody>\n",
       "</table>\n",
       "</div>"
      ],
      "text/plain": [
       "                            song  year artist    genre  \\\n",
       "257883             moment-4-life  2009  drake  Hip-Hop   \n",
       "257884     best-i-ever-had-remix  2009  drake  Hip-Hop   \n",
       "257885             forever-remix  2009  drake  Hip-Hop   \n",
       "257886           kick-push-remix  2009  drake  Hip-Hop   \n",
       "257887                      fear  2009  drake  Hip-Hop   \n",
       "257888         unstoppable-remix  2009  drake  Hip-Hop   \n",
       "257889     what-i-m-thinking-now  2009  drake  Hip-Hop   \n",
       "257890     asthma-team-freestyle  2009  drake  Hip-Hop   \n",
       "257891                successful  2009  drake  Hip-Hop   \n",
       "257892               a-night-off  2009  drake  Hip-Hop   \n",
       "257893          bria-s-interlude  2009  drake  Hip-Hop   \n",
       "257894                   special  2009  drake  Hip-Hop   \n",
       "257895                 the-usual  2009  drake  Hip-Hop   \n",
       "257896             say-something  2009  drake  Hip-Hop   \n",
       "257897                    lookin  2009  drake  Hip-Hop   \n",
       "257898              city-is-mine  2009  drake  Hip-Hop   \n",
       "257899                 interlude  2009  drake  Hip-Hop   \n",
       "257900                     intro  2009  drake  Hip-Hop   \n",
       "257901  loving-you-no-more-remix  2009  drake  Hip-Hop   \n",
       "257902           say-what-s-real  2009  drake  Hip-Hop   \n",
       "\n",
       "                                                   lyrics  \n",
       "257883  I fly with the stars in the skies\\nI am no lon...  \n",
       "257884  You know a lot of girls be\\nThinking my songs ...  \n",
       "257885  It may not mean nothing to y'all,\\nBut underst...  \n",
       "257886  [LUPE FIASCO: TALKING]\\nUh, what up y'all!\\nSo...  \n",
       "257887  This is why I do this shit.\\nI think they call...  \n",
       "257888  [Drake]\\nMy name is drizzy\\nand i aint perfect...  \n",
       "257889  Yes,\\nI'm on that old switch lane shit,\\nJay, ...  \n",
       "257890  I swear to you, Lord\\nSame dudes used to laugh...  \n",
       "257891  The money (money) cars (cars)\\nThe clothes (cl...  \n",
       "257892  Spending every moment in the studio\\nI never s...  \n",
       "257893  [Omarion:]\\nEven though your all alone\\nAll I ...  \n",
       "257894  Uh Yea Man, Vo, Back Again Like We Never Left ...  \n",
       "257895  And I Wouldn't Be Me If I Didn't Get A Little ...  \n",
       "257896  This shit was all I knew\\nYou and me, only\\nI ...  \n",
       "257897  they say when u lov some one you dont play\\nbu...  \n",
       "257898  This the record that my backpack underground f...  \n",
       "257899  Oh, baby (Oh baby)\\nDays in the sun\\nAnd night...  \n",
       "257900  i heard once that they would rather hear about...  \n",
       "257901  So hard to breathe this air that we call love,...  \n",
       "257902  Why do I feel so alone?\\nLike everybody passin...  "
      ]
     },
     "execution_count": 57,
     "metadata": {},
     "output_type": "execute_result"
    }
   ],
   "source": [
    "hip_hop_data_df[hip_hop_data_df.artist == 'drake'].head(20)"
   ]
  },
  {
   "cell_type": "markdown",
   "metadata": {},
   "source": [
    "# Save the hip_hop_data_df to lyrics_hiphop.csv"
   ]
  },
  {
   "cell_type": "markdown",
   "metadata": {},
   "source": [
    "Drop the index column in place"
   ]
  },
  {
   "cell_type": "code",
   "execution_count": 46,
   "metadata": {},
   "outputs": [
    {
     "name": "stderr",
     "output_type": "stream",
     "text": [
      "/anaconda3/lib/python3.6/site-packages/ipykernel_launcher.py:1: SettingWithCopyWarning: \n",
      "A value is trying to be set on a copy of a slice from a DataFrame\n",
      "\n",
      "See the caveats in the documentation: http://pandas.pydata.org/pandas-docs/stable/indexing.html#indexing-view-versus-copy\n",
      "  \"\"\"Entry point for launching an IPython kernel.\n"
     ]
    }
   ],
   "source": [
    "hip_hop_data_df.drop(['index'], axis=1, inplace=True)"
   ]
  },
  {
   "cell_type": "code",
   "execution_count": 47,
   "metadata": {
    "scrolled": true
   },
   "outputs": [
    {
     "data": {
      "text/html": [
       "<div>\n",
       "<style>\n",
       "    .dataframe thead tr:only-child th {\n",
       "        text-align: right;\n",
       "    }\n",
       "\n",
       "    .dataframe thead th {\n",
       "        text-align: left;\n",
       "    }\n",
       "\n",
       "    .dataframe tbody tr th {\n",
       "        vertical-align: top;\n",
       "    }\n",
       "</style>\n",
       "<table border=\"1\" class=\"dataframe\">\n",
       "  <thead>\n",
       "    <tr style=\"text-align: right;\">\n",
       "      <th></th>\n",
       "      <th>song</th>\n",
       "      <th>year</th>\n",
       "      <th>artist</th>\n",
       "      <th>genre</th>\n",
       "      <th>lyrics</th>\n",
       "    </tr>\n",
       "  </thead>\n",
       "  <tbody>\n",
       "    <tr>\n",
       "      <th>249</th>\n",
       "      <td>i-got-that</td>\n",
       "      <td>2007</td>\n",
       "      <td>eazy-e</td>\n",
       "      <td>Hip-Hop</td>\n",
       "      <td>(horns)...\\n(chorus)\\nTimbo- When you hit me o...</td>\n",
       "    </tr>\n",
       "    <tr>\n",
       "      <th>250</th>\n",
       "      <td>8-ball-remix</td>\n",
       "      <td>2007</td>\n",
       "      <td>eazy-e</td>\n",
       "      <td>Hip-Hop</td>\n",
       "      <td>Verse 1:\\nI don't drink brass monkey, like to ...</td>\n",
       "    </tr>\n",
       "    <tr>\n",
       "      <th>251</th>\n",
       "      <td>extra-special-thankz</td>\n",
       "      <td>2007</td>\n",
       "      <td>eazy-e</td>\n",
       "      <td>Hip-Hop</td>\n",
       "      <td>19 muthaphukkin 93,\\nand I'm back in this bitc...</td>\n",
       "    </tr>\n",
       "    <tr>\n",
       "      <th>252</th>\n",
       "      <td>boyz-in-da-hood</td>\n",
       "      <td>2007</td>\n",
       "      <td>eazy-e</td>\n",
       "      <td>Hip-Hop</td>\n",
       "      <td>Hey yo man, remember that shit Eazy did a whil...</td>\n",
       "    </tr>\n",
       "    <tr>\n",
       "      <th>253</th>\n",
       "      <td>automoblie</td>\n",
       "      <td>2007</td>\n",
       "      <td>eazy-e</td>\n",
       "      <td>Hip-Hop</td>\n",
       "      <td>Yo, Dre, man, I take this bitch out to the mov...</td>\n",
       "    </tr>\n",
       "  </tbody>\n",
       "</table>\n",
       "</div>"
      ],
      "text/plain": [
       "                     song  year  artist    genre  \\\n",
       "249            i-got-that  2007  eazy-e  Hip-Hop   \n",
       "250          8-ball-remix  2007  eazy-e  Hip-Hop   \n",
       "251  extra-special-thankz  2007  eazy-e  Hip-Hop   \n",
       "252       boyz-in-da-hood  2007  eazy-e  Hip-Hop   \n",
       "253            automoblie  2007  eazy-e  Hip-Hop   \n",
       "\n",
       "                                                lyrics  \n",
       "249  (horns)...\\n(chorus)\\nTimbo- When you hit me o...  \n",
       "250  Verse 1:\\nI don't drink brass monkey, like to ...  \n",
       "251  19 muthaphukkin 93,\\nand I'm back in this bitc...  \n",
       "252  Hey yo man, remember that shit Eazy did a whil...  \n",
       "253  Yo, Dre, man, I take this bitch out to the mov...  "
      ]
     },
     "execution_count": 47,
     "metadata": {},
     "output_type": "execute_result"
    }
   ],
   "source": [
    "hip_hop_data_df.head()"
   ]
  },
  {
   "cell_type": "code",
   "execution_count": 52,
   "metadata": {},
   "outputs": [
    {
     "data": {
      "text/html": [
       "<div>\n",
       "<style>\n",
       "    .dataframe thead tr:only-child th {\n",
       "        text-align: right;\n",
       "    }\n",
       "\n",
       "    .dataframe thead th {\n",
       "        text-align: left;\n",
       "    }\n",
       "\n",
       "    .dataframe tbody tr th {\n",
       "        vertical-align: top;\n",
       "    }\n",
       "</style>\n",
       "<table border=\"1\" class=\"dataframe\">\n",
       "  <thead>\n",
       "    <tr style=\"text-align: right;\">\n",
       "      <th></th>\n",
       "      <th>song</th>\n",
       "      <th>year</th>\n",
       "      <th>artist</th>\n",
       "      <th>genre</th>\n",
       "      <th>lyrics</th>\n",
       "    </tr>\n",
       "  </thead>\n",
       "  <tbody>\n",
       "    <tr>\n",
       "      <th>362136</th>\n",
       "      <td>the-sky</td>\n",
       "      <td>2013</td>\n",
       "      <td>dub-fx</td>\n",
       "      <td>Hip-Hop</td>\n",
       "      <td>The sky is forever\\nAs I'm tappin' away upon m...</td>\n",
       "    </tr>\n",
       "    <tr>\n",
       "      <th>362145</th>\n",
       "      <td>run</td>\n",
       "      <td>2013</td>\n",
       "      <td>dub-fx</td>\n",
       "      <td>Hip-Hop</td>\n",
       "      <td>I see you run when I say WHATAGWAN\\nI see you ...</td>\n",
       "    </tr>\n",
       "    <tr>\n",
       "      <th>362149</th>\n",
       "      <td>so-are-you</td>\n",
       "      <td>2016</td>\n",
       "      <td>dub-fx</td>\n",
       "      <td>Hip-Hop</td>\n",
       "      <td>Oooh\\nIf i only ever knew I'm trapped in my mi...</td>\n",
       "    </tr>\n",
       "    <tr>\n",
       "      <th>362150</th>\n",
       "      <td>road-to-babylon</td>\n",
       "      <td>2016</td>\n",
       "      <td>dub-fx</td>\n",
       "      <td>Hip-Hop</td>\n",
       "      <td>[Verse 1]\\nI walk alone on this road to Babylo...</td>\n",
       "    </tr>\n",
       "    <tr>\n",
       "      <th>362156</th>\n",
       "      <td>love-me-or-not</td>\n",
       "      <td>2014</td>\n",
       "      <td>dub-fx</td>\n",
       "      <td>Hip-Hop</td>\n",
       "      <td>You could love me or not\\nBut either way I've ...</td>\n",
       "    </tr>\n",
       "  </tbody>\n",
       "</table>\n",
       "</div>"
      ],
      "text/plain": [
       "                   song  year  artist    genre  \\\n",
       "362136          the-sky  2013  dub-fx  Hip-Hop   \n",
       "362145              run  2013  dub-fx  Hip-Hop   \n",
       "362149       so-are-you  2016  dub-fx  Hip-Hop   \n",
       "362150  road-to-babylon  2016  dub-fx  Hip-Hop   \n",
       "362156   love-me-or-not  2014  dub-fx  Hip-Hop   \n",
       "\n",
       "                                                   lyrics  \n",
       "362136  The sky is forever\\nAs I'm tappin' away upon m...  \n",
       "362145  I see you run when I say WHATAGWAN\\nI see you ...  \n",
       "362149  Oooh\\nIf i only ever knew I'm trapped in my mi...  \n",
       "362150  [Verse 1]\\nI walk alone on this road to Babylo...  \n",
       "362156  You could love me or not\\nBut either way I've ...  "
      ]
     },
     "execution_count": 52,
     "metadata": {},
     "output_type": "execute_result"
    }
   ],
   "source": [
    "hip_hop_data_df.tail()"
   ]
  },
  {
   "cell_type": "code",
   "execution_count": 48,
   "metadata": {
    "collapsed": true
   },
   "outputs": [],
   "source": [
    "hip_hop_data_df.to_csv(exporting_path,index = None)"
   ]
  },
  {
   "cell_type": "code",
   "execution_count": null,
   "metadata": {
    "collapsed": true
   },
   "outputs": [],
   "source": []
  },
  {
   "cell_type": "code",
   "execution_count": null,
   "metadata": {
    "collapsed": true
   },
   "outputs": [],
   "source": []
  }
 ],
 "metadata": {
  "kernelspec": {
   "display_name": "Python 3",
   "language": "python",
   "name": "python3"
  },
  "language_info": {
   "codemirror_mode": {
    "name": "ipython",
    "version": 3
   },
   "file_extension": ".py",
   "mimetype": "text/x-python",
   "name": "python",
   "nbconvert_exporter": "python",
   "pygments_lexer": "ipython3",
   "version": "3.6.3"
  }
 },
 "nbformat": 4,
 "nbformat_minor": 2
}
